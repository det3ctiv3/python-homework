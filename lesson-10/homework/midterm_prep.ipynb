{
 "cells": [
  {
   "cell_type": "code",
   "id": "initial_id",
   "metadata": {
    "collapsed": true,
    "ExecuteTime": {
     "end_time": "2025-03-05T02:21:47.006075Z",
     "start_time": "2025-03-05T02:21:46.774185Z"
    }
   },
   "source": [
    "import numpy as np\n",
    "array = np.random.rand(30,30)\n",
    "print(array[10,20])"
   ],
   "outputs": [
    {
     "name": "stdout",
     "output_type": "stream",
     "text": [
      "0.9709324788658992\n"
     ]
    }
   ],
   "execution_count": 1
  },
  {
   "metadata": {
    "ExecuteTime": {
     "end_time": "2025-03-05T02:23:14.002310Z",
     "start_time": "2025-03-05T02:23:13.995229Z"
    }
   },
   "cell_type": "code",
   "source": [
    "import numpy as np\n",
    "array = np.random.rand(30,30)\n",
    "total_sum = np.sum(array)\n",
    "print(total_sum)"
   ],
   "id": "93ebdf85c0a4cb04",
   "outputs": [
    {
     "name": "stdout",
     "output_type": "stream",
     "text": [
      "450.31966442310244\n"
     ]
    }
   ],
   "execution_count": 2
  },
  {
   "metadata": {
    "ExecuteTime": {
     "end_time": "2025-03-05T02:26:16.625662Z",
     "start_time": "2025-03-05T02:26:16.619841Z"
    }
   },
   "cell_type": "code",
   "source": [
    "import numpy as np\n",
    "array = np.random.rand(30,30)\n",
    "first_ten = array[:10]\n",
    "mean_first_ten = np.mean(first_ten)\n",
    "print(mean_first_ten)"
   ],
   "id": "1524d515aa7da463",
   "outputs": [
    {
     "name": "stdout",
     "output_type": "stream",
     "text": [
      "0.49112083906388165\n"
     ]
    }
   ],
   "execution_count": 5
  },
  {
   "metadata": {
    "ExecuteTime": {
     "end_time": "2025-03-05T02:29:51.114360Z",
     "start_time": "2025-03-05T02:29:51.090408Z"
    }
   },
   "cell_type": "code",
   "source": [
    "import numpy as np\n",
    "def simulate_fair_coin_flips():\n",
    "    flips = np.random.randint(0,2, size=1000)\n",
    "    return flips\n",
    "flips = simulate_fair_coin_flips()\n",
    "print(flips)"
   ],
   "id": "83ec038288b287a0",
   "outputs": [
    {
     "name": "stdout",
     "output_type": "stream",
     "text": [
      "[1 1 1 0 0 1 1 0 1 0 0 0 0 1 1 0 1 0 0 1 1 0 1 0 0 0 1 0 1 0 1 0 0 0 0 0 1\n",
      " 1 1 0 1 1 1 1 1 0 1 1 0 0 1 0 0 1 0 0 1 1 1 1 0 1 0 1 0 0 1 1 1 1 0 1 1 1\n",
      " 1 1 1 1 1 0 0 1 0 1 1 0 1 0 1 0 1 1 0 0 0 1 1 1 0 1 1 0 1 1 1 1 0 0 0 0 1\n",
      " 1 1 0 0 1 0 0 1 0 1 1 1 1 0 1 1 1 0 1 0 1 1 0 0 0 0 0 1 1 0 0 1 0 0 1 1 1\n",
      " 0 0 0 0 0 1 0 0 0 0 0 0 1 1 1 1 0 1 1 1 0 1 0 0 0 1 0 0 1 1 0 1 1 1 0 0 1\n",
      " 0 1 0 1 1 0 0 0 0 1 0 0 1 0 1 0 0 1 0 1 1 1 1 0 1 1 0 0 1 0 0 1 0 0 1 1 1\n",
      " 1 0 0 0 0 0 0 0 0 1 0 1 1 0 1 0 1 1 0 0 0 0 1 1 0 1 0 0 0 0 0 0 1 0 1 0 0\n",
      " 0 0 0 0 1 0 0 1 1 0 1 0 1 0 0 1 0 0 1 1 0 1 1 0 1 1 0 0 0 0 0 1 0 0 1 0 1\n",
      " 0 1 0 1 0 1 1 0 1 1 1 1 0 0 1 0 1 1 1 1 0 0 1 0 1 0 0 1 1 0 1 0 0 1 1 1 1\n",
      " 1 0 0 1 1 1 1 1 1 1 1 1 1 0 1 1 1 0 1 1 0 1 1 0 0 0 0 0 0 0 1 0 1 0 0 0 0\n",
      " 1 0 0 1 0 1 1 0 1 0 1 0 0 1 1 0 1 1 0 0 1 1 0 1 1 0 1 1 0 1 0 1 1 0 1 1 0\n",
      " 1 0 1 0 1 0 1 0 0 0 0 1 1 1 1 0 1 1 0 1 0 0 0 1 1 0 1 1 0 0 0 0 0 1 1 0 1\n",
      " 0 0 0 0 1 1 1 0 1 1 1 0 0 1 1 1 0 1 1 1 0 1 1 0 0 1 1 1 0 0 1 0 1 1 0 0 1\n",
      " 1 0 1 0 1 1 0 0 1 1 0 0 1 1 1 0 1 1 0 1 0 1 0 0 1 0 0 0 0 0 1 1 0 1 0 1 1\n",
      " 1 0 1 1 0 0 0 0 1 0 0 0 1 1 0 0 1 0 0 1 0 1 1 0 1 0 0 1 0 0 1 1 1 1 1 1 1\n",
      " 0 0 0 0 1 1 0 0 0 0 0 1 0 0 1 0 0 1 0 1 0 1 0 0 1 0 1 1 1 1 0 1 1 1 1 0 1\n",
      " 1 0 1 0 1 1 1 0 1 0 0 1 0 1 1 1 0 0 1 0 1 1 0 1 1 0 1 1 1 0 0 0 0 1 1 0 0\n",
      " 0 0 0 0 0 0 1 1 0 0 0 0 0 1 1 1 1 1 1 0 1 1 0 0 1 0 1 1 1 0 1 0 0 0 0 1 0\n",
      " 0 0 1 1 0 1 0 1 1 1 0 1 1 1 1 0 1 0 0 1 1 1 0 1 1 1 1 1 0 1 1 1 0 0 0 0 0\n",
      " 1 1 1 1 1 0 1 1 0 1 1 1 0 0 0 1 0 1 0 0 1 0 0 1 1 1 1 0 1 0 0 0 0 0 1 0 1\n",
      " 0 0 1 0 1 0 0 0 1 1 0 0 1 1 0 1 0 0 1 1 1 1 0 1 1 0 1 0 0 1 0 0 0 1 0 1 0\n",
      " 0 1 1 1 0 1 0 0 1 1 0 1 0 1 1 1 0 0 0 0 1 1 1 1 1 1 0 1 0 0 1 0 1 0 0 1 0\n",
      " 1 0 1 0 1 1 1 0 1 1 1 0 0 1 1 0 0 1 0 1 1 1 0 0 0 1 0 1 1 1 0 0 1 1 1 1 1\n",
      " 1 0 1 0 0 0 1 0 0 0 0 0 0 0 1 0 0 0 0 1 0 1 0 0 0 0 1 0 1 0 1 0 1 0 1 0 0\n",
      " 1 1 0 0 0 0 1 0 1 1 1 0 1 1 1 0 1 0 1 1 0 0 1 1 0 0 0 0 0 0 1 0 1 0 1 1 0\n",
      " 0 0 0 0 1 0 0 0 0 1 0 0 1 0 0 1 1 1 0 0 0 0 1 0 1 0 1 1 1 1 1 1 0 0 1 1 0\n",
      " 1 0 0 0 0 1 1 1 0 0 0 0 1 0 0 0 1 1 0 1 1 0 1 0 1 1 1 0 1 0 1 1 0 1 0 1 1\n",
      " 1]\n"
     ]
    }
   ],
   "execution_count": 7
  },
  {
   "metadata": {
    "ExecuteTime": {
     "end_time": "2025-03-05T02:40:23.496979Z",
     "start_time": "2025-03-05T02:40:23.470193Z"
    }
   },
   "cell_type": "code",
   "source": [
    "import numpy as np\n",
    "def simulate_biased_coin_flips():\n",
    "    flips = np.random.choice([1,0], size=[1000], p=[0.7, 0.3])\n",
    "    return flips\n",
    "flips = simulate_biased_coin_flips()\n",
    "print(flips)"
   ],
   "id": "51895218ef93b86c",
   "outputs": [
    {
     "name": "stdout",
     "output_type": "stream",
     "text": [
      "[0 1 0 1 1 1 1 0 0 1 0 1 1 1 1 0 1 1 0 1 1 1 1 1 0 1 1 1 1 1 0 1 1 1 1 1 0\n",
      " 1 0 1 1 1 1 1 0 1 1 0 1 1 0 1 1 0 1 1 0 1 1 1 1 1 1 0 1 0 0 0 0 1 0 1 1 1\n",
      " 1 1 0 0 1 1 1 1 1 1 1 1 1 1 1 1 1 1 1 1 1 0 0 0 1 1 1 1 0 1 1 1 1 0 0 1 1\n",
      " 1 0 1 1 1 1 1 1 1 1 1 1 1 0 1 1 1 1 1 0 1 1 1 1 1 1 1 1 1 1 1 0 0 0 0 0 1\n",
      " 1 1 1 0 1 1 1 0 1 1 0 1 0 0 0 0 1 1 1 1 1 0 0 1 1 0 0 1 0 1 1 0 0 1 1 1 1\n",
      " 1 1 1 1 1 1 0 1 1 1 1 1 1 1 1 1 1 1 1 1 1 1 1 1 0 1 1 0 1 1 1 1 1 1 1 1 1\n",
      " 1 1 0 1 1 1 1 1 1 0 1 1 0 1 0 1 1 0 0 1 0 1 1 0 1 1 0 1 0 0 0 1 1 0 1 1 1\n",
      " 1 0 0 0 1 0 0 1 1 1 0 1 0 0 1 1 0 1 1 0 1 0 1 1 1 1 0 1 1 1 0 1 1 1 1 1 1\n",
      " 1 1 1 1 1 0 0 1 1 1 1 0 1 1 1 1 1 1 1 1 0 0 1 0 1 1 1 1 1 1 0 1 0 1 1 1 0\n",
      " 0 0 0 0 1 1 1 1 1 1 0 1 1 0 0 1 0 0 1 1 0 1 0 1 1 0 1 0 1 1 1 0 1 1 1 1 1\n",
      " 0 1 1 1 1 1 1 1 1 1 1 1 1 1 1 1 1 1 1 1 0 1 1 1 1 0 1 0 1 1 0 1 0 1 0 1 1\n",
      " 1 0 1 1 1 0 0 1 1 1 0 0 1 1 1 1 1 0 0 0 1 1 1 1 1 1 1 0 0 1 1 0 0 0 1 1 1\n",
      " 0 1 1 0 1 0 1 1 1 0 1 1 1 0 0 0 0 1 1 1 1 0 1 0 0 1 1 1 1 1 1 0 1 0 0 1 1\n",
      " 0 1 0 1 1 1 1 1 1 1 1 1 1 0 1 1 1 0 1 1 0 0 1 1 1 1 1 1 1 1 0 0 1 1 0 1 1\n",
      " 0 1 1 1 1 1 1 1 0 1 0 1 0 1 1 0 1 1 0 0 0 0 1 1 0 1 1 1 1 0 0 0 1 0 1 1 1\n",
      " 1 1 1 1 0 1 1 1 1 0 1 1 1 1 0 1 1 1 0 0 1 1 1 0 1 0 1 1 1 1 1 0 0 1 1 0 1\n",
      " 1 0 1 1 1 1 1 1 1 1 0 1 0 1 1 0 1 1 0 1 1 1 1 0 0 1 1 1 1 0 0 1 1 1 0 0 0\n",
      " 0 1 0 1 1 0 1 1 0 1 0 1 0 1 1 0 1 1 1 0 1 0 0 1 1 1 0 0 1 1 1 1 1 1 0 0 1\n",
      " 1 1 1 1 0 1 1 1 0 0 1 0 0 1 0 1 1 0 1 1 1 0 0 0 1 1 1 0 0 1 1 1 1 0 1 1 1\n",
      " 1 0 1 1 1 0 1 0 0 0 1 0 0 0 1 0 1 1 0 0 0 0 1 1 0 1 1 1 1 1 1 0 1 1 1 0 0\n",
      " 1 1 1 0 1 0 1 1 1 0 0 1 1 1 1 0 1 1 1 1 0 0 1 0 1 1 0 1 0 1 1 1 1 1 1 1 1\n",
      " 1 0 1 0 1 1 1 1 1 1 1 1 0 1 1 0 1 0 0 0 1 0 1 1 1 0 0 1 1 1 1 0 1 1 1 1 0\n",
      " 1 0 1 1 0 1 1 1 0 0 0 0 1 1 1 0 1 1 1 1 1 0 0 1 1 0 0 1 0 1 1 1 0 1 1 0 0\n",
      " 0 1 1 0 1 0 0 1 1 0 1 0 1 0 1 1 0 1 1 1 0 0 1 1 1 1 0 1 1 0 1 1 0 0 0 1 1\n",
      " 0 1 0 0 1 1 0 0 1 1 0 0 0 0 1 0 1 1 1 0 1 1 0 1 0 1 1 1 1 0 1 1 1 1 1 1 1\n",
      " 0 1 0 1 1 1 1 0 0 0 1 1 1 1 1 0 0 0 1 0 0 0 1 0 1 1 1 0 0 1 0 1 1 1 0 1 1\n",
      " 1 1 1 0 1 1 1 0 1 0 0 1 0 0 1 1 1 1 1 0 1 1 0 1 1 0 1 1 0 1 1 1 0 1 0 1 1\n",
      " 0]\n"
     ]
    }
   ],
   "execution_count": 11
  },
  {
   "metadata": {
    "ExecuteTime": {
     "end_time": "2025-03-05T04:43:12.389987Z",
     "start_time": "2025-03-05T04:43:12.352821Z"
    }
   },
   "cell_type": "code",
   "source": [
    "import numpy as np\n",
    "def simulate_biased_coin_flips():\n",
    "    flips = np.random.choice([1,0], size=1000, p=[0.7, 0.3])\n",
    "    return flips\n",
    "flips = simulate_biased_coin_flips()\n",
    "proportion = np.mean(flips)\n",
    "print(proportion)"
   ],
   "id": "9a28a1aa62e4c977",
   "outputs": [
    {
     "name": "stdout",
     "output_type": "stream",
     "text": [
      "0.7\n"
     ]
    }
   ],
   "execution_count": 15
  },
  {
   "metadata": {
    "ExecuteTime": {
     "end_time": "2025-03-05T05:06:33.066580Z",
     "start_time": "2025-03-05T05:06:33.052980Z"
    }
   },
   "cell_type": "code",
   "source": [
    "import numpy as np\n",
    "array = np.random.choice(range(1,11), size=5)\n",
    "average = np.mean(array)\n",
    "print(average)\n",
    "print(array)"
   ],
   "id": "e243552a2e10614b",
   "outputs": [
    {
     "name": "stdout",
     "output_type": "stream",
     "text": [
      "3.2\n",
      "[3 2 5 3 3]\n"
     ]
    }
   ],
   "execution_count": 46
  },
  {
   "metadata": {
    "ExecuteTime": {
     "end_time": "2025-03-05T05:28:12.196448Z",
     "start_time": "2025-03-05T05:28:12.147325Z"
    }
   },
   "cell_type": "code",
   "source": [
    "import numpy as np\n",
    "def simulate_roll_dies():\n",
    "    roll_dies = np.random.choice(range(1,7), size=10000, p=[1/6] *6)\n",
    "    getting_six = np.sum(roll_dies==6)/10000\n",
    "    return roll_dies, getting_six\n",
    "rolling_dies = simulate_roll_dies()\n",
    "print(rolling_dies)\n"
   ],
   "id": "a7dcc7fdb132cae9",
   "outputs": [
    {
     "name": "stdout",
     "output_type": "stream",
     "text": [
      "(array([2, 2, 4, ..., 4, 1, 6], shape=(10000,)), np.float64(0.1704))\n"
     ]
    }
   ],
   "execution_count": 118
  },
  {
   "metadata": {
    "ExecuteTime": {
     "end_time": "2025-03-05T05:28:14.385881Z",
     "start_time": "2025-03-05T05:28:14.378063Z"
    }
   },
   "cell_type": "code",
   "source": "print(rolling_dies)",
   "id": "8c61f45b16f6c16d",
   "outputs": [
    {
     "name": "stdout",
     "output_type": "stream",
     "text": [
      "(array([2, 2, 4, ..., 4, 1, 6], shape=(10000,)), np.float64(0.1704))\n"
     ]
    }
   ],
   "execution_count": 119
  },
  {
   "metadata": {
    "ExecuteTime": {
     "end_time": "2025-03-05T06:17:42.100924Z",
     "start_time": "2025-03-05T06:17:42.080549Z"
    }
   },
   "cell_type": "code",
   "source": [
    "import numpy as np\n",
    "my_array = np.random.rand(3,4)\n",
    "print(my_array)\n",
    "sum_of_secondrow = np.sum(my_array[1,:])\n",
    "print(sum_of_secondrow)"
   ],
   "id": "3723772ac195ee5d",
   "outputs": [
    {
     "name": "stdout",
     "output_type": "stream",
     "text": [
      "[[0.47843712 0.74343621 0.07311552 0.99617774]\n",
      " [0.16365262 0.79041414 0.0020927  0.25314042]\n",
      " [0.88955196 0.77665255 0.69796556 0.76525374]]\n",
      "1.2092998799172305\n"
     ]
    }
   ],
   "execution_count": 124
  },
  {
   "metadata": {
    "ExecuteTime": {
     "end_time": "2025-03-05T06:51:30.196241Z",
     "start_time": "2025-03-05T06:51:27.616493Z"
    }
   },
   "cell_type": "code",
   "source": [
    "import pandas as pd\n",
    "data = {\n",
    "    \"Name\": [\"Alice\", \"Bob\", \"Charlie\"],\n",
    "    \"Age\": [25, 30, 35],\n",
    "    \"City\": [\"New York\", \"Los Angeles\", \"Chicago\"]\n",
    "}\n",
    "df = pd.DataFrame(data)\n",
    "print(df)"
   ],
   "id": "8a722587ab000edd",
   "outputs": [
    {
     "name": "stdout",
     "output_type": "stream",
     "text": [
      "      Name  Age         City\n",
      "0    Alice   25     New York\n",
      "1      Bob   30  Los Angeles\n",
      "2  Charlie   35      Chicago\n"
     ]
    }
   ],
   "execution_count": 125
  },
  {
   "metadata": {
    "ExecuteTime": {
     "end_time": "2025-03-05T06:53:22.485337Z",
     "start_time": "2025-03-05T06:53:22.440084Z"
    }
   },
   "cell_type": "code",
   "source": [
    "print(df[\"Name\"])\n",
    "print(df[\"Age\"])\n",
    "print(df[\"City\"])"
   ],
   "id": "999b2867b4324db4",
   "outputs": [
    {
     "name": "stdout",
     "output_type": "stream",
     "text": [
      "0      Alice\n",
      "1        Bob\n",
      "2    Charlie\n",
      "Name: Name, dtype: object\n",
      "0    25\n",
      "1    30\n",
      "2    35\n",
      "Name: Age, dtype: int64\n",
      "0       New York\n",
      "1    Los Angeles\n",
      "2        Chicago\n",
      "Name: City, dtype: object\n"
     ]
    }
   ],
   "execution_count": 126
  }
 ],
 "metadata": {
  "kernelspec": {
   "display_name": "Python 3",
   "language": "python",
   "name": "python3"
  },
  "language_info": {
   "codemirror_mode": {
    "name": "ipython",
    "version": 2
   },
   "file_extension": ".py",
   "mimetype": "text/x-python",
   "name": "python",
   "nbconvert_exporter": "python",
   "pygments_lexer": "ipython2",
   "version": "2.7.6"
  }
 },
 "nbformat": 4,
 "nbformat_minor": 5
}

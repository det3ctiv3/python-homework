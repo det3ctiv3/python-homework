{
 "cells": [
  {
   "cell_type": "code",
   "id": "initial_id",
   "metadata": {
    "collapsed": true,
    "ExecuteTime": {
     "end_time": "2025-03-10T09:56:41.840564Z",
     "start_time": "2025-03-10T09:56:41.829726Z"
    }
   },
   "source": [
    "import numpy as np\n",
    "import random"
   ],
   "outputs": [],
   "execution_count": 9
  },
  {
   "metadata": {
    "ExecuteTime": {
     "end_time": "2025-03-10T09:59:45.676891Z",
     "start_time": "2025-03-10T09:59:45.665336Z"
    }
   },
   "cell_type": "code",
   "source": [
    "#task1\n",
    "np.arange(10, 50)"
   ],
   "id": "be6ef3dea81f6b77",
   "outputs": [
    {
     "data": {
      "text/plain": [
       "array([10, 11, 12, 13, 14, 15, 16, 17, 18, 19, 20, 21, 22, 23, 24, 25, 26,\n",
       "       27, 28, 29, 30, 31, 32, 33, 34, 35, 36, 37, 38, 39, 40, 41, 42, 43,\n",
       "       44, 45, 46, 47, 48, 49])"
      ]
     },
     "execution_count": 14,
     "metadata": {},
     "output_type": "execute_result"
    }
   ],
   "execution_count": 14
  },
  {
   "metadata": {
    "ExecuteTime": {
     "end_time": "2025-03-10T09:59:35.697989Z",
     "start_time": "2025-03-10T09:59:35.683177Z"
    }
   },
   "cell_type": "code",
   "source": [
    "#task2\n",
    "np.arange(0,9).reshape(3,3)\n"
   ],
   "id": "2e431f09dc6f7d4e",
   "outputs": [
    {
     "data": {
      "text/plain": [
       "array([[0, 1, 2],\n",
       "       [3, 4, 5],\n",
       "       [6, 7, 8]])"
      ]
     },
     "execution_count": 13,
     "metadata": {},
     "output_type": "execute_result"
    }
   ],
   "execution_count": 13
  },
  {
   "metadata": {
    "ExecuteTime": {
     "end_time": "2025-03-10T09:59:48.734849Z",
     "start_time": "2025-03-10T09:59:48.718600Z"
    }
   },
   "cell_type": "code",
   "source": [
    "#task3\n",
    "np.eye(3,3)"
   ],
   "id": "66fe0a72dd845201",
   "outputs": [
    {
     "data": {
      "text/plain": [
       "array([[1., 0., 0.],\n",
       "       [0., 1., 0.],\n",
       "       [0., 0., 1.]])"
      ]
     },
     "execution_count": 15,
     "metadata": {},
     "output_type": "execute_result"
    }
   ],
   "execution_count": 15
  },
  {
   "metadata": {
    "ExecuteTime": {
     "end_time": "2025-03-10T10:01:18.890584Z",
     "start_time": "2025-03-10T10:01:18.881959Z"
    }
   },
   "cell_type": "code",
   "source": [
    "#task4\n",
    "np.random.random((3,3,3))"
   ],
   "id": "94871c88d33eea76",
   "outputs": [
    {
     "data": {
      "text/plain": [
       "array([[[0.30518767, 0.61115735, 0.6220347 ],\n",
       "        [0.86999109, 0.86296994, 0.54570673],\n",
       "        [0.22611161, 0.17536328, 0.38123813]],\n",
       "\n",
       "       [[0.44512021, 0.04867454, 0.98135169],\n",
       "        [0.57499182, 0.91706955, 0.62374638],\n",
       "        [0.93521828, 0.50190119, 0.66822778]],\n",
       "\n",
       "       [[0.87196267, 0.80396683, 0.13731404],\n",
       "        [0.12016405, 0.5686442 , 0.25232023],\n",
       "        [0.93267731, 0.29111749, 0.48419174]]])"
      ]
     },
     "execution_count": 17,
     "metadata": {},
     "output_type": "execute_result"
    }
   ],
   "execution_count": 17
  },
  {
   "metadata": {
    "ExecuteTime": {
     "end_time": "2025-03-10T10:02:46.826438Z",
     "start_time": "2025-03-10T10:02:46.814135Z"
    }
   },
   "cell_type": "code",
   "source": [
    "#task5\n",
    "ten_dim_array = np.random.random((10,10))"
   ],
   "id": "31f9a216019ae422",
   "outputs": [
    {
     "data": {
      "text/plain": [
       "np.float64(0.006896913443247832)"
      ]
     },
     "execution_count": 19,
     "metadata": {},
     "output_type": "execute_result"
    }
   ],
   "execution_count": 19
  },
  {
   "metadata": {
    "ExecuteTime": {
     "end_time": "2025-03-10T10:03:35.615696Z",
     "start_time": "2025-03-10T10:03:35.602926Z"
    }
   },
   "cell_type": "code",
   "source": "ten_dim_array",
   "id": "1e3446eb2f41c945",
   "outputs": [
    {
     "data": {
      "text/plain": [
       "array([[0.08168159, 0.44250534, 0.80261604, 0.29363701, 0.14064713,\n",
       "        0.98824825, 0.04028193, 0.59109332, 0.5493783 , 0.18136455],\n",
       "       [0.96317277, 0.84552654, 0.06030479, 0.81868539, 0.97862305,\n",
       "        0.44888183, 0.84633036, 0.04126074, 0.77061747, 0.08874257],\n",
       "       [0.04649047, 0.57026752, 0.44660791, 0.5717337 , 0.74752315,\n",
       "        0.21187371, 0.24493956, 0.18794183, 0.62414897, 0.72124827],\n",
       "       [0.86067584, 0.79727009, 0.04374365, 0.4016632 , 0.01023225,\n",
       "        0.21029942, 0.54870887, 0.00689691, 0.38649554, 0.84316221],\n",
       "       [0.94674508, 0.77316944, 0.972403  , 0.39488249, 0.40004025,\n",
       "        0.27419035, 0.41679346, 0.8998432 , 0.19994469, 0.69547255],\n",
       "       [0.82764607, 0.45823242, 0.34082767, 0.3973013 , 0.86638875,\n",
       "        0.84260898, 0.09050579, 0.68005579, 0.49084051, 0.19844992],\n",
       "       [0.43897632, 0.66934179, 0.74221375, 0.33793911, 0.29424857,\n",
       "        0.55742016, 0.37222785, 0.5714334 , 0.60304606, 0.59781582],\n",
       "       [0.67884516, 0.28379143, 0.60581428, 0.48825941, 0.63475268,\n",
       "        0.59494715, 0.31026674, 0.08420472, 0.89572394, 0.73482635],\n",
       "       [0.82205768, 0.48499859, 0.82876717, 0.25001668, 0.29964011,\n",
       "        0.40673056, 0.16205709, 0.53695889, 0.16328248, 0.24048474],\n",
       "       [0.88305887, 0.75193202, 0.04182506, 0.24746701, 0.30932252,\n",
       "        0.22836776, 0.24254715, 0.40281517, 0.84322623, 0.82255262]])"
      ]
     },
     "execution_count": 20,
     "metadata": {},
     "output_type": "execute_result"
    }
   ],
   "execution_count": 20
  },
  {
   "metadata": {
    "ExecuteTime": {
     "end_time": "2025-03-10T10:03:45.210912Z",
     "start_time": "2025-03-10T10:03:45.204598Z"
    }
   },
   "cell_type": "code",
   "source": "ten_dim_array.max()",
   "id": "40256b8e82025b40",
   "outputs": [
    {
     "data": {
      "text/plain": [
       "np.float64(0.9882482456815188)"
      ]
     },
     "execution_count": 21,
     "metadata": {},
     "output_type": "execute_result"
    }
   ],
   "execution_count": 21
  },
  {
   "metadata": {
    "ExecuteTime": {
     "end_time": "2025-03-10T10:03:50.887297Z",
     "start_time": "2025-03-10T10:03:50.880298Z"
    }
   },
   "cell_type": "code",
   "source": "ten_dim_array.min()",
   "id": "d2f81c6fbdb6a36e",
   "outputs": [
    {
     "data": {
      "text/plain": [
       "np.float64(0.006896913443247832)"
      ]
     },
     "execution_count": 22,
     "metadata": {},
     "output_type": "execute_result"
    }
   ],
   "execution_count": 22
  },
  {
   "metadata": {
    "ExecuteTime": {
     "end_time": "2025-03-10T10:12:32.327585Z",
     "start_time": "2025-03-10T10:12:32.224350Z"
    }
   },
   "cell_type": "code",
   "source": [
    "#task6\n",
    "vector_size_thirty = np.random.random(30)\n",
    "vector_size_thirty"
   ],
   "id": "7aa267306af2058c",
   "outputs": [
    {
     "data": {
      "text/plain": [
       "array([0.51992915, 0.47423756, 0.36364333, 0.31981659, 0.28300218,\n",
       "       0.80067994, 0.62613802, 0.51939389, 0.97031149, 0.90568535,\n",
       "       0.65003857, 0.96546195, 0.39362414, 0.19775901, 0.13156052,\n",
       "       0.97708673, 0.62901059, 0.8893378 , 0.48911484, 0.63134198,\n",
       "       0.1572529 , 0.86647049, 0.74565777, 0.61642206, 0.29118415,\n",
       "       0.24934604, 0.80159575, 0.15849787, 0.04397718, 0.02098396])"
      ]
     },
     "execution_count": 23,
     "metadata": {},
     "output_type": "execute_result"
    }
   ],
   "execution_count": 23
  },
  {
   "metadata": {
    "ExecuteTime": {
     "end_time": "2025-03-10T10:12:48.191773Z",
     "start_time": "2025-03-10T10:12:48.171970Z"
    }
   },
   "cell_type": "code",
   "source": "vector_size_thirty.mean()",
   "id": "8e1574ceed6e7727",
   "outputs": [
    {
     "data": {
      "text/plain": [
       "np.float64(0.5229520588787694)"
      ]
     },
     "execution_count": 24,
     "metadata": {},
     "output_type": "execute_result"
    }
   ],
   "execution_count": 24
  },
  {
   "metadata": {
    "ExecuteTime": {
     "end_time": "2025-03-10T10:34:42.462763Z",
     "start_time": "2025-03-10T10:34:42.343051Z"
    }
   },
   "cell_type": "code",
   "source": [
    "#task7\n",
    "five_dim_matrix = np.random.random((5,5))\n",
    "norm_matrix = (five_dim_matrix - five_dim_matrix.min())/(five_dim_matrix.max() - five_dim_matrix.min())\n",
    "norm_matrix"
   ],
   "id": "b1a9a67296ebf35c",
   "outputs": [
    {
     "data": {
      "text/plain": [
       "array([[0.77514363, 0.87042368, 0.07672823, 0.51849724, 0.64375795],\n",
       "       [0.52749925, 0.4763696 , 0.19283018, 0.4667407 , 0.        ],\n",
       "       [0.04742637, 0.42408554, 0.82834441, 0.56288357, 0.58954988],\n",
       "       [0.65300256, 0.05297036, 1.        , 0.6049459 , 0.92837804],\n",
       "       [0.41522957, 0.53670494, 0.01150999, 0.56770397, 0.52536056]])"
      ]
     },
     "execution_count": 25,
     "metadata": {},
     "output_type": "execute_result"
    }
   ],
   "execution_count": 25
  },
  {
   "metadata": {
    "ExecuteTime": {
     "end_time": "2025-03-10T10:39:32.262937Z",
     "start_time": "2025-03-10T10:39:32.205591Z"
    }
   },
   "cell_type": "code",
   "source": [
    "#task8\n",
    "five_by_three = np.random.random((5,3))\n",
    "three_by_two = np.random.random((3,2))\n",
    "np.dot(five_by_three, three_by_two)"
   ],
   "id": "a17d6c87796585af",
   "outputs": [
    {
     "data": {
      "text/plain": [
       "array([[0.80186653, 0.62113644],\n",
       "       [1.53703707, 1.00973415],\n",
       "       [0.29535456, 0.21550384],\n",
       "       [1.43217241, 1.02586372],\n",
       "       [0.60880827, 0.35654224]])"
      ]
     },
     "execution_count": 28,
     "metadata": {},
     "output_type": "execute_result"
    }
   ],
   "execution_count": 28
  },
  {
   "metadata": {
    "ExecuteTime": {
     "end_time": "2025-03-10T10:54:55.878961Z",
     "start_time": "2025-03-10T10:54:55.802121Z"
    }
   },
   "cell_type": "code",
   "source": [
    "#task9\n",
    "first_three_d = np.random.random((3,3))\n",
    "second_three_d = np.random.random((3,3))\n",
    "np.dot(first_three_d, second_three_d)"
   ],
   "id": "6648997fa61d402c",
   "outputs": [
    {
     "data": {
      "text/plain": [
       "array([[0.45679908, 0.81370741, 0.95968547],\n",
       "       [1.30620049, 1.48510777, 1.31747708],\n",
       "       [0.71715023, 1.11293259, 0.85325981]])"
      ]
     },
     "execution_count": 29,
     "metadata": {},
     "output_type": "execute_result"
    }
   ],
   "execution_count": 29
  },
  {
   "metadata": {
    "ExecuteTime": {
     "end_time": "2025-03-10T10:57:18.669686Z",
     "start_time": "2025-03-10T10:57:18.580661Z"
    }
   },
   "cell_type": "code",
   "source": [
    "#task10\n",
    "four_by_four = np.random.random((4,4))\n",
    "np.transpose(four_by_four)\n"
   ],
   "id": "89410918df5f6ae9",
   "outputs": [
    {
     "data": {
      "text/plain": [
       "array([[0.2804307 , 0.24703038, 0.15165934, 0.57861679],\n",
       "       [0.57346205, 0.41823564, 0.29520576, 0.53576645],\n",
       "       [0.53764654, 0.8999883 , 0.045332  , 0.91432481],\n",
       "       [0.36049245, 0.18930557, 0.95923044, 0.02712727]])"
      ]
     },
     "execution_count": 30,
     "metadata": {},
     "output_type": "execute_result"
    }
   ],
   "execution_count": 30
  },
  {
   "metadata": {
    "ExecuteTime": {
     "end_time": "2025-03-10T10:59:01.625288Z",
     "start_time": "2025-03-10T10:59:01.588149Z"
    }
   },
   "cell_type": "code",
   "source": [
    "#task11\n",
    "three_by_three = np.random.random((3,3))\n",
    "np.linalg.det(three_by_three)"
   ],
   "id": "9db9626f34cbcc7c",
   "outputs": [
    {
     "data": {
      "text/plain": [
       "np.float64(0.47135724355666897)"
      ]
     },
     "execution_count": 32,
     "metadata": {},
     "output_type": "execute_result"
    }
   ],
   "execution_count": 32
  },
  {
   "metadata": {
    "ExecuteTime": {
     "end_time": "2025-03-10T11:00:22.085009Z",
     "start_time": "2025-03-10T11:00:22.047949Z"
    }
   },
   "cell_type": "code",
   "source": [
    "#task12\n",
    "three_by_four = np.random.random((3,3))\n",
    "four_by_three = np.random.random((3,3))\n",
    "np.matmul(three_by_four, four_by_three)"
   ],
   "id": "f5ca4861ef05245c",
   "outputs": [
    {
     "data": {
      "text/plain": [
       "array([[1.15355666, 1.08313692, 0.76120416],\n",
       "       [0.89697868, 1.1249778 , 0.58005468],\n",
       "       [0.76577651, 0.98173512, 0.54552667]])"
      ]
     },
     "execution_count": 33,
     "metadata": {},
     "output_type": "execute_result"
    }
   ],
   "execution_count": 33
  },
  {
   "metadata": {
    "ExecuteTime": {
     "end_time": "2025-03-10T11:03:27.431147Z",
     "start_time": "2025-03-10T11:03:27.416323Z"
    }
   },
   "cell_type": "code",
   "source": [
    "#task13\n",
    "three_by_three = np.random.random((3,3))\n",
    "one_dim = np.random.random((3,1))\n",
    "np.matmul(three_by_three, one_dim)"
   ],
   "id": "fe0e58cbdf7e6a73",
   "outputs": [
    {
     "data": {
      "text/plain": [
       "array([[0.64977277],\n",
       "       [0.58351213],\n",
       "       [0.82705076]])"
      ]
     },
     "execution_count": 36,
     "metadata": {},
     "output_type": "execute_result"
    }
   ],
   "execution_count": 36
  },
  {
   "metadata": {
    "ExecuteTime": {
     "end_time": "2025-03-10T11:08:42.613838Z",
     "start_time": "2025-03-10T11:08:42.601719Z"
    }
   },
   "cell_type": "code",
   "source": [
    "#task14\n",
    "a = np.random.random((3,3))\n",
    "b = np.random.random((3,1))\n",
    "x = np.linalg.solve(a, b)\n",
    "x"
   ],
   "id": "ec9378d90502a768",
   "outputs": [
    {
     "data": {
      "text/plain": [
       "array([[ 1.38490543],\n",
       "       [-1.17975104],\n",
       "       [ 0.19739502]])"
      ]
     },
     "execution_count": 40,
     "metadata": {},
     "output_type": "execute_result"
    }
   ],
   "execution_count": 40
  },
  {
   "metadata": {
    "ExecuteTime": {
     "end_time": "2025-03-10T11:10:36.424669Z",
     "start_time": "2025-03-10T11:10:36.413008Z"
    }
   },
   "cell_type": "code",
   "source": [
    "#task15\n",
    "five_by_five = np.random.random((5,5))\n",
    "np.sum(five_by_five, axis = 0) #rows"
   ],
   "id": "bd1c2f7a68e4dd8a",
   "outputs": [
    {
     "data": {
      "text/plain": [
       "array([2.89027595, 3.31100136, 2.71190835, 2.03521196, 1.55740951])"
      ]
     },
     "execution_count": 42,
     "metadata": {},
     "output_type": "execute_result"
    }
   ],
   "execution_count": 42
  },
  {
   "metadata": {
    "ExecuteTime": {
     "end_time": "2025-03-10T11:12:40.273696Z",
     "start_time": "2025-03-10T11:12:40.206608Z"
    }
   },
   "cell_type": "code",
   "source": "np.sum(five_by_five, axis=1) #column",
   "id": "dba17429fda8c8cc",
   "outputs": [
    {
     "data": {
      "text/plain": [
       "array([2.99468803, 2.76469649, 1.5521022 , 2.92977788, 2.26454253])"
      ]
     },
     "execution_count": 43,
     "metadata": {},
     "output_type": "execute_result"
    }
   ],
   "execution_count": 43
  }
 ],
 "metadata": {
  "kernelspec": {
   "display_name": "Python 3",
   "language": "python",
   "name": "python3"
  },
  "language_info": {
   "codemirror_mode": {
    "name": "ipython",
    "version": 2
   },
   "file_extension": ".py",
   "mimetype": "text/x-python",
   "name": "python",
   "nbconvert_exporter": "python",
   "pygments_lexer": "ipython2",
   "version": "2.7.6"
  }
 },
 "nbformat": 4,
 "nbformat_minor": 5
}

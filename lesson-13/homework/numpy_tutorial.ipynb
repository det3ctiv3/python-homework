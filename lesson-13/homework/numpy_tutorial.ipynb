{
 "cells": [
  {
   "metadata": {
    "ExecuteTime": {
     "end_time": "2025-03-10T06:16:39.345470Z",
     "start_time": "2025-03-10T06:16:39.340590Z"
    }
   },
   "cell_type": "code",
   "source": "import numpy as np",
   "id": "951aa37e052e844f",
   "outputs": [],
   "execution_count": 7
  },
  {
   "metadata": {
    "ExecuteTime": {
     "end_time": "2025-03-10T06:16:39.374731Z",
     "start_time": "2025-03-10T06:16:39.369488Z"
    }
   },
   "cell_type": "code",
   "source": [
    "array = [1,2,3,4,5]\n",
    "array=np.array(array)\n",
    "array"
   ],
   "id": "8444a90a65536883",
   "outputs": [
    {
     "data": {
      "text/plain": [
       "array([1, 2, 3, 4, 5])"
      ]
     },
     "execution_count": 8,
     "metadata": {},
     "output_type": "execute_result"
    }
   ],
   "execution_count": 8
  },
  {
   "metadata": {
    "ExecuteTime": {
     "end_time": "2025-03-10T06:16:39.414353Z",
     "start_time": "2025-03-10T06:16:39.405150Z"
    }
   },
   "cell_type": "code",
   "source": "np.arange(10,15,0.2)\n",
   "id": "c612e16219bf3ce1",
   "outputs": [
    {
     "data": {
      "text/plain": [
       "array([10. , 10.2, 10.4, 10.6, 10.8, 11. , 11.2, 11.4, 11.6, 11.8, 12. ,\n",
       "       12.2, 12.4, 12.6, 12.8, 13. , 13.2, 13.4, 13.6, 13.8, 14. , 14.2,\n",
       "       14.4, 14.6, 14.8])"
      ]
     },
     "execution_count": 9,
     "metadata": {},
     "output_type": "execute_result"
    }
   ],
   "execution_count": 9
  },
  {
   "metadata": {
    "ExecuteTime": {
     "end_time": "2025-03-10T06:16:39.440627Z",
     "start_time": "2025-03-10T06:16:39.434638Z"
    }
   },
   "cell_type": "code",
   "source": "np.linspace(1,10,11)",
   "id": "9a43fa343a6e1fad",
   "outputs": [
    {
     "data": {
      "text/plain": [
       "array([ 1. ,  1.9,  2.8,  3.7,  4.6,  5.5,  6.4,  7.3,  8.2,  9.1, 10. ])"
      ]
     },
     "execution_count": 10,
     "metadata": {},
     "output_type": "execute_result"
    }
   ],
   "execution_count": 10
  },
  {
   "metadata": {
    "ExecuteTime": {
     "end_time": "2025-03-10T06:16:39.522890Z",
     "start_time": "2025-03-10T06:16:39.517724Z"
    }
   },
   "cell_type": "code",
   "source": "np.zeros(5)",
   "id": "935e8d990d6c5676",
   "outputs": [
    {
     "data": {
      "text/plain": [
       "array([0., 0., 0., 0., 0.])"
      ]
     },
     "execution_count": 11,
     "metadata": {},
     "output_type": "execute_result"
    }
   ],
   "execution_count": 11
  },
  {
   "metadata": {
    "ExecuteTime": {
     "end_time": "2025-03-10T06:16:39.552803Z",
     "start_time": "2025-03-10T06:16:39.540127Z"
    }
   },
   "cell_type": "code",
   "source": "np.zeros((2,3,4))",
   "id": "b6456c47f0f8c5cb",
   "outputs": [
    {
     "data": {
      "text/plain": [
       "array([[[0., 0., 0., 0.],\n",
       "        [0., 0., 0., 0.],\n",
       "        [0., 0., 0., 0.]],\n",
       "\n",
       "       [[0., 0., 0., 0.],\n",
       "        [0., 0., 0., 0.],\n",
       "        [0., 0., 0., 0.]]])"
      ]
     },
     "execution_count": 12,
     "metadata": {},
     "output_type": "execute_result"
    }
   ],
   "execution_count": 12
  },
  {
   "metadata": {
    "ExecuteTime": {
     "end_time": "2025-03-10T06:16:39.590808Z",
     "start_time": "2025-03-10T06:16:39.583815Z"
    }
   },
   "cell_type": "code",
   "source": [
    "c = np.array([1, \"Hello\"])\n",
    "c.dtype"
   ],
   "id": "edfef2c72f1b7f00",
   "outputs": [
    {
     "data": {
      "text/plain": [
       "dtype('<U21')"
      ]
     },
     "execution_count": 13,
     "metadata": {},
     "output_type": "execute_result"
    }
   ],
   "execution_count": 13
  },
  {
   "metadata": {
    "ExecuteTime": {
     "end_time": "2025-03-10T06:16:39.666050Z",
     "start_time": "2025-03-10T06:16:39.661444Z"
    }
   },
   "cell_type": "code",
   "source": [
    "ns = np.full((2,7), fill_value=10)\n",
    "ns"
   ],
   "id": "168699a7d340e7cc",
   "outputs": [
    {
     "data": {
      "text/plain": [
       "array([[10, 10, 10, 10, 10, 10, 10],\n",
       "       [10, 10, 10, 10, 10, 10, 10]])"
      ]
     },
     "execution_count": 14,
     "metadata": {},
     "output_type": "execute_result"
    }
   ],
   "execution_count": 14
  },
  {
   "metadata": {
    "ExecuteTime": {
     "end_time": "2025-03-10T06:16:39.722093Z",
     "start_time": "2025-03-10T06:16:39.719188Z"
    }
   },
   "cell_type": "code",
   "source": "empty = np.empty((1,2))",
   "id": "c58115f4f1e908b2",
   "outputs": [],
   "execution_count": 15
  },
  {
   "metadata": {
    "ExecuteTime": {
     "end_time": "2025-03-10T06:16:40.427698Z",
     "start_time": "2025-03-10T06:16:40.421955Z"
    }
   },
   "cell_type": "code",
   "source": "np.eye(5,5) #Identity matrix 5x5",
   "id": "2887f55a4b52369e",
   "outputs": [
    {
     "data": {
      "text/plain": [
       "array([[1., 0., 0., 0., 0.],\n",
       "       [0., 1., 0., 0., 0.],\n",
       "       [0., 0., 1., 0., 0.],\n",
       "       [0., 0., 0., 1., 0.],\n",
       "       [0., 0., 0., 0., 1.]])"
      ]
     },
     "execution_count": 16,
     "metadata": {},
     "output_type": "execute_result"
    }
   ],
   "execution_count": 16
  },
  {
   "metadata": {
    "ExecuteTime": {
     "end_time": "2025-03-10T06:16:40.441223Z",
     "start_time": "2025-03-10T06:16:40.428248Z"
    }
   },
   "cell_type": "code",
   "source": [
    "data = np.array((1,2), dtype=int)\n",
    "ones = np.ones((2))\n",
    "data+ones"
   ],
   "id": "533bc21249f8d747",
   "outputs": [
    {
     "data": {
      "text/plain": [
       "array([2., 3.])"
      ]
     },
     "execution_count": 17,
     "metadata": {},
     "output_type": "execute_result"
    }
   ],
   "execution_count": 17
  },
  {
   "metadata": {
    "ExecuteTime": {
     "end_time": "2025-03-10T06:33:59.625963Z",
     "start_time": "2025-03-10T06:33:59.569891Z"
    }
   },
   "cell_type": "code",
   "source": "data.shape",
   "id": "d9c548c1d6b21c5e",
   "outputs": [
    {
     "data": {
      "text/plain": [
       "(2,)"
      ]
     },
     "execution_count": 19,
     "metadata": {},
     "output_type": "execute_result"
    }
   ],
   "execution_count": 19
  },
  {
   "metadata": {
    "ExecuteTime": {
     "end_time": "2025-03-10T06:34:11.192444Z",
     "start_time": "2025-03-10T06:34:11.176926Z"
    }
   },
   "cell_type": "code",
   "source": [
    "data.max()\n",
    "np.max(data) # both are same"
   ],
   "id": "e4871685288576fc",
   "outputs": [
    {
     "data": {
      "text/plain": [
       "np.int64(2)"
      ]
     },
     "execution_count": 20,
     "metadata": {},
     "output_type": "execute_result"
    }
   ],
   "execution_count": 20
  },
  {
   "metadata": {
    "ExecuteTime": {
     "end_time": "2025-03-10T06:37:17.108870Z",
     "start_time": "2025-03-10T06:37:17.086075Z"
    }
   },
   "cell_type": "code",
   "source": [
    "data1 = np.array([\n",
    "    [1,2],\n",
    "    [3,4],\n",
    "    [5,6]\n",
    "])\n"
   ],
   "id": "12c15392693f3ff2",
   "outputs": [
    {
     "data": {
      "text/plain": [
       "array([2, 4, 6])"
      ]
     },
     "execution_count": 21,
     "metadata": {},
     "output_type": "execute_result"
    }
   ],
   "execution_count": 21
  },
  {
   "metadata": {
    "ExecuteTime": {
     "end_time": "2025-03-10T06:37:29.208232Z",
     "start_time": "2025-03-10T06:37:29.198572Z"
    }
   },
   "cell_type": "code",
   "source": "data1.max(axis=0)",
   "id": "16fc09aaf8055c8c",
   "outputs": [
    {
     "data": {
      "text/plain": [
       "array([5, 6])"
      ]
     },
     "execution_count": 22,
     "metadata": {},
     "output_type": "execute_result"
    }
   ],
   "execution_count": 22
  },
  {
   "metadata": {
    "ExecuteTime": {
     "end_time": "2025-03-10T06:37:32.905684Z",
     "start_time": "2025-03-10T06:37:32.895586Z"
    }
   },
   "cell_type": "code",
   "source": "data1.max(axis=1)",
   "id": "8efd0e9fa3776d83",
   "outputs": [
    {
     "data": {
      "text/plain": [
       "array([2, 4, 6])"
      ]
     },
     "execution_count": 23,
     "metadata": {},
     "output_type": "execute_result"
    }
   ],
   "execution_count": 23
  },
  {
   "metadata": {
    "ExecuteTime": {
     "end_time": "2025-03-10T08:03:08.236393Z",
     "start_time": "2025-03-10T08:03:08.175391Z"
    }
   },
   "cell_type": "code",
   "source": [
    "class Array:\n",
    "    def __init__(self, l: list):\n",
    "        self.l = l\n",
    "    def __getitem__(self, index):\n",
    "        try:\n",
    "            index = int(index)\n",
    "            return super().__getitem__[index]\n",
    "        except TypeError:\n",
    "            raise\n",
    "a1 = Array([1,2,3,4,5])\n",
    "a1['1']"
   ],
   "id": "38822ef0be02c359",
   "outputs": [
    {
     "data": {
      "text/plain": [
       "2"
      ]
     },
     "execution_count": 24,
     "metadata": {},
     "output_type": "execute_result"
    }
   ],
   "execution_count": 24
  },
  {
   "metadata": {
    "ExecuteTime": {
     "end_time": "2025-03-10T08:11:22.407590Z",
     "start_time": "2025-03-10T08:11:22.382220Z"
    }
   },
   "cell_type": "code",
   "source": "data1[0:2, 0]",
   "id": "80db51e1b073b5ce",
   "outputs": [
    {
     "data": {
      "text/plain": [
       "array([1, 3])"
      ]
     },
     "execution_count": 25,
     "metadata": {},
     "output_type": "execute_result"
    }
   ],
   "execution_count": 25
  },
  {
   "metadata": {
    "ExecuteTime": {
     "end_time": "2025-03-10T08:17:05.887437Z",
     "start_time": "2025-03-10T08:17:05.867398Z"
    }
   },
   "cell_type": "code",
   "source": [
    "a2 = np.array([\n",
    "    [1,2,3,4],\n",
    "    [5,6,7,8],\n",
    "    [9,10,11,12]\n",
    "\n",
    "])\n",
    "a2"
   ],
   "id": "79b5c84bb1f3863c",
   "outputs": [
    {
     "data": {
      "text/plain": [
       "array([[ 1,  2,  3,  4],\n",
       "       [ 5,  6,  7,  8],\n",
       "       [ 9, 10, 11, 12]])"
      ]
     },
     "execution_count": 28,
     "metadata": {},
     "output_type": "execute_result"
    }
   ],
   "execution_count": 28
  },
  {
   "metadata": {
    "ExecuteTime": {
     "end_time": "2025-03-10T08:17:08.136683Z",
     "start_time": "2025-03-10T08:17:08.098384Z"
    }
   },
   "cell_type": "code",
   "source": "a2[1:, 2:]",
   "id": "71114c369bbbc40e",
   "outputs": [
    {
     "data": {
      "text/plain": [
       "array([[ 7,  8],\n",
       "       [11, 12]])"
      ]
     },
     "execution_count": 29,
     "metadata": {},
     "output_type": "execute_result"
    }
   ],
   "execution_count": 29
  }
 ],
 "metadata": {
  "kernelspec": {
   "name": "python3",
   "language": "python",
   "display_name": "Python 3 (ipykernel)"
  }
 },
 "nbformat": 5,
 "nbformat_minor": 9
}

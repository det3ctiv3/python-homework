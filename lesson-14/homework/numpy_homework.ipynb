{
 "cells": [
  {
   "metadata": {
    "ExecuteTime": {
     "end_time": "2025-03-11T11:50:08.931252Z",
     "start_time": "2025-03-11T11:50:08.280388Z"
    }
   },
   "cell_type": "code",
   "source": [
    "import numpy as np\n",
    "from PIL import Image"
   ],
   "id": "a377041594d68404",
   "outputs": [],
   "execution_count": 17
  },
  {
   "metadata": {
    "ExecuteTime": {
     "end_time": "2025-03-11T11:29:52.979664Z",
     "start_time": "2025-03-11T11:29:52.960056Z"
    }
   },
   "cell_type": "code",
   "source": [
    "#task1\n",
    "farenheit_array = np.array([32, 68, 100, 212, 77])\n",
    "def farenheit_to_celsius(farenheit):\n",
    "    return round((farenheit - 32) *5/9)\n",
    "vectorized_farenheit_array = np.vectorize(farenheit_to_celsius)\n",
    "vectorized_farenheit_array(farenheit_array)"
   ],
   "id": "c9efd89ffa9e85f3",
   "outputs": [
    {
     "data": {
      "text/plain": [
       "array([  0,  20,  38, 100,  25])"
      ]
     },
     "execution_count": 8,
     "metadata": {},
     "output_type": "execute_result"
    }
   ],
   "execution_count": 8
  },
  {
   "metadata": {
    "ExecuteTime": {
     "end_time": "2025-03-11T11:33:46.718612Z",
     "start_time": "2025-03-11T11:33:46.705931Z"
    }
   },
   "cell_type": "code",
   "source": [
    "#task2\n",
    "numbers = np.array([2,3,4,5])\n",
    "powers = np.array([1,2,3,4])\n",
    "def num_to_pow(num, pow):\n",
    "    return num**pow\n",
    "vectorized_func = np.vectorize(num_to_pow)\n",
    "vectorized_func(numbers, powers)"
   ],
   "id": "613fa91325917f7e",
   "outputs": [
    {
     "data": {
      "text/plain": [
       "array([  2,   9,  64, 625])"
      ]
     },
     "execution_count": 12,
     "metadata": {},
     "output_type": "execute_result"
    }
   ],
   "execution_count": 12
  },
  {
   "metadata": {
    "ExecuteTime": {
     "end_time": "2025-03-11T11:37:10.538812Z",
     "start_time": "2025-03-11T11:37:10.526137Z"
    }
   },
   "cell_type": "code",
   "source": [
    "#task3\n",
    "A = np.array([\n",
    "    [4,5,6],\n",
    "    [3,-1,1],\n",
    "    [2,1,-2]\n",
    "])\n",
    "b = np.array([7,4,5])\n",
    "np.linalg.solve(A, b)"
   ],
   "id": "55027033e116b1ec",
   "outputs": [
    {
     "data": {
      "text/plain": [
       "array([ 1.7027027 ,  0.62162162, -0.48648649])"
      ]
     },
     "execution_count": 15,
     "metadata": {},
     "output_type": "execute_result"
    }
   ],
   "execution_count": 15
  },
  {
   "metadata": {
    "ExecuteTime": {
     "end_time": "2025-03-11T11:40:28.082763Z",
     "start_time": "2025-03-11T11:40:28.044864Z"
    }
   },
   "cell_type": "code",
   "source": [
    "#task4\n",
    "C = np.array([\n",
    "    [10,-2,3],\n",
    "    [-2, 8, -1],\n",
    "    [3,-1,6]\n",
    "])\n",
    "d = np.array([12,-5,15])\n",
    "np.linalg.solve(A, b)"
   ],
   "id": "e957d27cf38bccb3",
   "outputs": [
    {
     "data": {
      "text/plain": [
       "array([ 1.7027027 ,  0.62162162, -0.48648649])"
      ]
     },
     "execution_count": 16,
     "metadata": {},
     "output_type": "execute_result"
    }
   ],
   "execution_count": 16
  },
  {
   "metadata": {
    "ExecuteTime": {
     "end_time": "2025-03-11T12:25:39.162099Z",
     "start_time": "2025-03-11T12:25:39.132757Z"
    }
   },
   "cell_type": "code",
   "source": [
    "#task5\n",
    "image = Image.open(\"birds.jpg\")\n",
    "image_array = np.array(image)\n",
    "def flip_image(image):\n",
    "    flip_horiz = image[:,::-1,:]\n",
    "    flip_vert = flip_horiz[::-1,:,:]\n",
    "    output_image_h = Image.fromarray(flip_horiz)\n",
    "    output_image_v = Image.fromarray(flip_vert)\n",
    "    output_image_h.save(\"flipped_h.jpg\")\n",
    "    output_image_v.save(\"flipped_v.jpg\")\n",
    "def add_noise(image):\n",
    "    noise = np.random.randint(-30,30, image.shape, dtype=np.int16)\n",
    "    noisy_image = np.clip(image + noise, 0, 255).astype(np.uint8)\n",
    "    output_image = Image.fromarray(noisy_image)\n",
    "    output_image.save(\"noise.jpg\")\n",
    "def bright_channels(image):\n",
    "    image[:,:,0] = np.clip(image[:,:,0] +40, 0, 255)\n",
    "    output_image = Image.fromarray(image)\n",
    "    output_image.save(\"bright_channels.jpg\")\n",
    "def mask(image):\n",
    "    height, width, _ = image.shape\n",
    "    x_start, y_start = width//2 -50, height//2 - 50\n",
    "    x_end, y_end = x_start+100, y_start+100\n",
    "    image[y_start:y_end, x_start:x_end, :] = 0\n",
    "    output_image = Image.fromarray(image)\n",
    "    output_image.save(\"mask.jpg\")\n",
    "\n",
    "if __name__ == '__main__':\n",
    "    flip_image(image_array)\n",
    "    add_noise(image_array)\n",
    "    bright_channels(image_array)\n",
    "    mask(image_array)"
   ],
   "id": "9f13b0346c77e47c",
   "outputs": [],
   "execution_count": 23
  }
 ],
 "metadata": {
  "kernelspec": {
   "name": "python3",
   "language": "python",
   "display_name": "Python 3 (ipykernel)"
  }
 },
 "nbformat": 5,
 "nbformat_minor": 9
}

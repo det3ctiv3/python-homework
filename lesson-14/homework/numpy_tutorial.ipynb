{
 "cells": [
  {
   "metadata": {
    "ExecuteTime": {
     "end_time": "2025-03-10T11:54:38.744683Z",
     "start_time": "2025-03-10T11:54:38.398847Z"
    }
   },
   "cell_type": "code",
   "source": [
    "import numpy as np\n",
    "a = np.random.randint(10,51,50)\n",
    "a"
   ],
   "id": "9a42e67685648cb5",
   "outputs": [
    {
     "data": {
      "text/plain": [
       "array([35, 16, 23, 42, 45, 17, 14, 19, 49, 46, 47, 43, 11, 30, 22, 27, 32,\n",
       "       46, 46, 43, 27, 45, 34, 30, 34, 41, 41, 50, 29, 46, 29, 48, 40, 26,\n",
       "       34, 25, 43, 30, 27, 45, 25, 48, 30, 43, 43, 28, 21, 49, 11, 41],\n",
       "      dtype=int32)"
      ]
     },
     "execution_count": 1,
     "metadata": {},
     "output_type": "execute_result"
    }
   ],
   "execution_count": 1
  },
  {
   "metadata": {
    "ExecuteTime": {
     "end_time": "2025-03-10T11:54:58.943943Z",
     "start_time": "2025-03-10T11:54:58.926597Z"
    }
   },
   "cell_type": "code",
   "source": [
    "b = np.random.randint(10,51,50)\n",
    "b"
   ],
   "id": "12105e6c3c747cfc",
   "outputs": [
    {
     "data": {
      "text/plain": [
       "array([46, 49, 15, 39, 22, 27, 17, 23, 15, 32, 24, 30, 47, 30, 15, 49, 15,\n",
       "       44, 42, 22, 39, 24, 37, 25, 45, 43, 36, 34, 13, 37, 15, 32, 29, 34,\n",
       "       16, 17, 30, 50, 41, 42, 37, 49, 24, 31, 15, 33, 36, 34, 14, 14],\n",
       "      dtype=int32)"
      ]
     },
     "execution_count": 2,
     "metadata": {},
     "output_type": "execute_result"
    }
   ],
   "execution_count": 2
  },
  {
   "metadata": {
    "ExecuteTime": {
     "end_time": "2025-03-10T11:55:35.845553Z",
     "start_time": "2025-03-10T11:55:35.828965Z"
    }
   },
   "cell_type": "code",
   "source": [
    "w = np.random.randint(2,20, 40)\n",
    "w"
   ],
   "id": "c4a30203ec4c75b9",
   "outputs": [
    {
     "data": {
      "text/plain": [
       "array([18, 10, 13, 13,  4,  4,  8, 15,  8, 12,  8, 17,  2, 11,  4, 11, 17,\n",
       "       17, 13,  8, 10, 18,  6,  3, 18,  5,  8, 14,  3, 10, 14,  7, 13, 19,\n",
       "       19, 19, 19, 18, 10, 16], dtype=int32)"
      ]
     },
     "execution_count": 4,
     "metadata": {},
     "output_type": "execute_result"
    }
   ],
   "execution_count": 4
  },
  {
   "metadata": {
    "ExecuteTime": {
     "end_time": "2025-03-10T11:56:18.492476Z",
     "start_time": "2025-03-10T11:56:18.484092Z"
    }
   },
   "cell_type": "code",
   "source": [
    "def add(x1,x2):\n",
    "    return x1 + x2"
   ],
   "id": "5c8feb40a0d25646",
   "outputs": [],
   "execution_count": 7
  },
  {
   "metadata": {
    "ExecuteTime": {
     "end_time": "2025-03-10T11:56:19.834184Z",
     "start_time": "2025-03-10T11:56:19.820434Z"
    }
   },
   "cell_type": "code",
   "source": "add(a,b)",
   "id": "c8b2aea4dccfef85",
   "outputs": [
    {
     "data": {
      "text/plain": [
       "array([81, 65, 38, 81, 67, 44, 31, 42, 64, 78, 71, 73, 58, 60, 37, 76, 47,\n",
       "       90, 88, 65, 66, 69, 71, 55, 79, 84, 77, 84, 42, 83, 44, 80, 69, 60,\n",
       "       50, 42, 73, 80, 68, 87, 62, 97, 54, 74, 58, 61, 57, 83, 25, 55],\n",
       "      dtype=int32)"
      ]
     },
     "execution_count": 8,
     "metadata": {},
     "output_type": "execute_result"
    }
   ],
   "execution_count": 8
  },
  {
   "metadata": {
    "ExecuteTime": {
     "end_time": "2025-03-10T11:57:11.332827Z",
     "start_time": "2025-03-10T11:57:11.325279Z"
    }
   },
   "cell_type": "code",
   "source": [
    "def categorize(x):\n",
    "    if x < 0:\n",
    "        return \"Negative\"\n",
    "    elif x ==0:\n",
    "        return \"Neutral\"\n",
    "    else:\n",
    "        return \"Positive\""
   ],
   "id": "b93b3d65a415e5a1",
   "outputs": [],
   "execution_count": 10
  },
  {
   "metadata": {
    "ExecuteTime": {
     "end_time": "2025-03-10T11:57:29.050843Z",
     "start_time": "2025-03-10T11:57:29.042849Z"
    }
   },
   "cell_type": "code",
   "source": "categorize(1)",
   "id": "ee758d715f7cab04",
   "outputs": [
    {
     "data": {
      "text/plain": [
       "'Positive'"
      ]
     },
     "execution_count": 13,
     "metadata": {},
     "output_type": "execute_result"
    }
   ],
   "execution_count": 13
  },
  {
   "metadata": {
    "ExecuteTime": {
     "end_time": "2025-03-10T11:57:58.420387Z",
     "start_time": "2025-03-10T11:57:58.407439Z"
    }
   },
   "cell_type": "code",
   "source": "a <0",
   "id": "a5dae0ab81be69b6",
   "outputs": [
    {
     "data": {
      "text/plain": [
       "array([False, False, False, False, False, False, False, False, False,\n",
       "       False, False, False, False, False, False, False, False, False,\n",
       "       False, False, False, False, False, False, False, False, False,\n",
       "       False, False, False, False, False, False, False, False, False,\n",
       "       False, False, False, False, False, False, False, False, False,\n",
       "       False, False, False, False, False])"
      ]
     },
     "execution_count": 14,
     "metadata": {},
     "output_type": "execute_result"
    }
   ],
   "execution_count": 14
  },
  {
   "metadata": {},
   "cell_type": "code",
   "outputs": [],
   "execution_count": null,
   "source": "",
   "id": "4d16b97da502b422"
  }
 ],
 "metadata": {
  "kernelspec": {
   "name": "python3",
   "language": "python",
   "display_name": "Python 3 (ipykernel)"
  }
 },
 "nbformat": 5,
 "nbformat_minor": 9
}
